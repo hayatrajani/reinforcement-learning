{
  "nbformat": 4,
  "nbformat_minor": 0,
  "metadata": {
    "colab": {
      "name": "Windy Gridworld.ipynb",
      "provenance": [],
      "collapsed_sections": [],
      "include_colab_link": true
    },
    "kernelspec": {
      "name": "python3",
      "display_name": "Python 3"
    }
  },
  "cells": [
    {
      "cell_type": "markdown",
      "metadata": {
        "id": "view-in-github",
        "colab_type": "text"
      },
      "source": [
        "<a href=\"https://colab.research.google.com/github/hayatrajani/reinforcement-learning/blob/main/Windy_Gridworld.ipynb\" target=\"_parent\"><img src=\"https://colab.research.google.com/assets/colab-badge.svg\" alt=\"Open In Colab\"/></a>"
      ]
    },
    {
      "cell_type": "markdown",
      "metadata": {
        "id": "iUUXSgXJhhax"
      },
      "source": [
        "# Import required Modules"
      ]
    },
    {
      "cell_type": "code",
      "metadata": {
        "id": "BdblfD3eoFIr"
      },
      "source": [
        "import numpy as np\n",
        "import matplotlib.pyplot as plt\n",
        "from matplotlib.patches import Rectangle, Circle, Polygon\n",
        "from tqdm import tqdm\n",
        "\n",
        "%matplotlib inline\n",
        "np.set_printoptions(linewidth=np.inf)"
      ],
      "execution_count": null,
      "outputs": []
    },
    {
      "cell_type": "markdown",
      "metadata": {
        "id": "IF3KQO08ho4Z"
      },
      "source": [
        "# Design the Grid World\n",
        "\n",
        "![windy_gridworld](https://drive.google.com/uc?id=10CcBBLWgMateeYRp3JFwTI--T1UgS8TQ)\n",
        "\n",
        "The agent starts in the cell marked $S$.\n",
        "\n",
        "When it reaches the cell marked $G$, it will receive a reward of $100$ and the episode ends.\n",
        "\n",
        "Every other step will be rewarded with $-1$.\n",
        "\n",
        "However, there is a crosswind running upward through the middle of the grid causing the resultant next states to shift upward by a \"wind\", the strength of which varies from column to column. The strength of the wind is given below each column, in number of cells shifted upward.\n",
        "\n",
        "The agent has eight (non-deterministic) actions:\n",
        "\n",
        "* It can move to an adjacent cell according to eight-neighborhood.\n",
        "* With probability 0.8, the desired action is carried out. With probability 0.1, the agent deviates from the desired direction by one cell to the left or to the right (axis-parallel moves become diagonal moves and vice versa).\n",
        "* Actions that would move the agent off the grid are handled by truncating the resulting cell coordinates to valid grid coordinates. Hence, almost all diagonal moves outside the grid (except for moves into cells extending corners) will result in a horizontal or vertical move."
      ]
    },
    {
      "cell_type": "code",
      "metadata": {
        "id": "7bW9Hi4oQCdC"
      },
      "source": [
        "gridSize = (7,10)\n",
        "\n",
        "startCell = (3,0)\n",
        "goalCell = (3,7)\n",
        "\n",
        "goalReward = 100\n",
        "rewards = np.zeros(gridSize)-1\n",
        "rewards[goalCell] = goalReward\n",
        "\n",
        "winds = (0,0,0,-1,-1,-1,-2,-2,-1,0)\n",
        "winds_ = np.empty(gridSize, dtype=int)\n",
        "for cell in np.ndindex(gridSize):\n",
        "    winds_[cell] = winds[cell[1]]+np.random.choice((-1,0,1))\n",
        "getWind = lambda state, stochastic: (winds_[state],0) if stochastic else (winds[state[1]],0)\n",
        "\n",
        "# possible actions: NW, N, NE, E, SE, S, SW, W\n",
        "actions = ((-1,-1), (-1,0), (-1,1), (0,1), (1,1), (1,0), (1,-1), (0,-1))\n",
        "nActions = len(actions)\n",
        "\n",
        "initPolicy = lambda: np.random.choice(range(nActions))\n",
        "\n",
        "\n",
        "def step(state, actionID, deterministic=True, stochasticWind=False):\n",
        "    action = actions[actionID]\n",
        "    # desired action is performed with probability 0.8\n",
        "    # else action deviates to the left or right\n",
        "    if not deterministic:\n",
        "        rand = np.random.random()\n",
        "        if rand > 0.8:\n",
        "            # action deviates left\n",
        "            if rand > 0.9:\n",
        "                thetaDev = -np.pi/4\n",
        "            # action deviates right\n",
        "            else:\n",
        "                thetaDev = np.pi/4\n",
        "            rotMat = np.array([[np.cos(thetaDev),-np.sin(thetaDev)],\n",
        "                            [np.sin(thetaDev),np.cos(thetaDev)]])\n",
        "            # deviated action\n",
        "            action = np.round(rotMat @ action).astype(int)\n",
        "    # check wind strength (blowing upwards and sometimes varying by 1)\n",
        "    wind = getWind(state, stochasticWind)\n",
        "    # determine the new state and reward\n",
        "    state = tuple(s+a+w for s,a,w in zip(state,action,wind))\n",
        "    # truncate state to valid cell coordinates if agent moves off grid\n",
        "    state = tuple(np.clip(state,0,(gridSize[0]-1,gridSize[1]-1)))\n",
        "    # end episode if terminal state\n",
        "    done = rewards[state] == goalReward\n",
        "    return (state, rewards[state], done)\n",
        "\n",
        "\n",
        "# Online Tabular TD-lambda\n",
        "def policyEvaluation(policy, V=np.zeros(gridSize),\n",
        "                     lmbda=0.1, gamma=0.9, alpha=0.2, decay=True,\n",
        "                     episodes=1000, deterministic=True, stochasticWind=False):\n",
        "    eligibility = np.zeros(gridSize)\n",
        "    if decay:\n",
        "        nVisit = np.zeros(gridSize, dtype=int)\n",
        "    # repeat for each episode\n",
        "    for episode in tqdm(range(episodes)):\n",
        "        # starting from an initial state\n",
        "        state = startCell\n",
        "        # repeat for each step of the episode\n",
        "        while True:\n",
        "            # get an action for the current state\n",
        "            actionID = policy()\n",
        "            # take action and observe next state and reward\n",
        "            state_, reward, done = step(state, actionID)\n",
        "            # update eligibility traces and state values\n",
        "            if decay:\n",
        "                alpha = 1/(nVisit[state]+1)\n",
        "            tdError = reward + gamma*V[state_] - V[state]\n",
        "            eligibility[state] += 1\n",
        "            for s in np.ndindex(gridSize):\n",
        "                V[s] += alpha*eligibility[s]*tdError\n",
        "                eligibility[s] *= gamma*lmbda\n",
        "            # move on to the next state\n",
        "            state = state_\n",
        "            if decay:\n",
        "                nVisit[state] += 1\n",
        "            # until terminal state reached\n",
        "            if done:\n",
        "                break\n",
        "    return V\n",
        "\n",
        "\n",
        "def epsGreedy(Qstate, epsilon=0.1):\n",
        "    return np.random.choice(range(nActions)) if(np.random.random()<epsilon) else np.argmax(Qstate)\n",
        "\n",
        "\n",
        "# SARSA-lambda\n",
        "def policyImprovement(Q=np.zeros((*gridSize,nActions)), replaceTrace=False,\n",
        "                      lmbda=0.1, epsilon=0.1, gamma=0.9, alpha=0.2, decay=True,\n",
        "                      episodes=10000, deterministic=True, stochasticWind=False):\n",
        "    eligibility = np.zeros(Q.shape)\n",
        "    if decay:\n",
        "        nQVisit = np.zeros(Q.shape, dtype=int)\n",
        "    # repeat for each episode\n",
        "    for episode in tqdm(range(episodes)):\n",
        "        # starting from an initial state\n",
        "        state = startCell\n",
        "        # get an action for the initial state using a policy derived from Q\n",
        "        actionID = epsGreedy(Q[state], epsilon)\n",
        "        # repeat for each step of the episode\n",
        "        while True:\n",
        "            # take action and observe next state and reward\n",
        "            state_, reward, done = step(state, actionID, deterministic)\n",
        "            # get an action for the new state using a policy derived from Q\n",
        "            actionID_ = epsGreedy(Q[state], epsilon)\n",
        "            if decay:\n",
        "                nQVisit[state][actionID] += 1\n",
        "                alpha = 1/nQVisit[state][actionID]\n",
        "            tdError = reward + gamma*Q[state_][actionID_] - Q[state][actionID]\n",
        "            if replaceTrace:\n",
        "                eligibility[state] = np.eye(nActions)[actionID]\n",
        "            else:\n",
        "                eligibility[state][actionID] += 1\n",
        "                eligibility[state] *= gamma*lmbda\n",
        "            # for each state-action pair\n",
        "            for s in np.ndindex(gridSize):\n",
        "                # update action value\n",
        "                Q[s] += alpha*eligibility[s]*tdError\n",
        "                # update eligibility trace\n",
        "                if s != state:\n",
        "                    eligibility[s] *= gamma*lmbda\n",
        "            # move on to the next state-action pair\n",
        "            state = state_\n",
        "            actionID = actionID_\n",
        "            # until terminal state reached\n",
        "            if done:\n",
        "                break\n",
        "    return Q\n",
        "\n",
        "\n",
        "def plotPolicy(policy, deterministic=True, stochasticWind=False):\n",
        "    fig, ax = plt.subplots(1,1,figsize=(gridSize[1],gridSize[0]))\n",
        "    ax.axis([0,gridSize[1],0,gridSize[0]])\n",
        "    ax.set_xticks(range(gridSize[1]))\n",
        "    ax.set_yticks(range(gridSize[0]))\n",
        "    ax.grid(True, color='k', linewidth=1.5)\n",
        "    ax.set_aspect(1)\n",
        "    ax.invert_yaxis()\n",
        "    ax.set_yticklabels([])\n",
        "    ax.yaxis.set_ticks_position('none')\n",
        "    ax.set_xticklabels([])\n",
        "    ax.xaxis.set_ticks_position('none')\n",
        "    ax.add_patch(Rectangle((startCell[1],startCell[0]),1,1,color='dodgerblue'))\n",
        "    ax.add_patch(Rectangle((goalCell[1],goalCell[0]),1,1,color='springgreen'))\n",
        "    for i, w in enumerate(winds):\n",
        "        ax.text(i+0.5, gridSize[0]+0.5, -w, fontsize=20, color='slategrey')\n",
        "    state = startCell\n",
        "    states = [state]\n",
        "    while True:\n",
        "        actionID = np.argmax(policy[state])\n",
        "        nextState, _, done = step(state, actionID, deterministic, stochasticWind)\n",
        "        states.append(nextState)\n",
        "        state = nextState\n",
        "        if done:\n",
        "            break\n",
        "    states = [(x+0.5,y+0.5) for y,x in states]\n",
        "    ax.add_patch(Circle(states[0], radius=0.1, fill=True, color='darkviolet'))\n",
        "    ax.add_patch(Polygon(states[:-1], closed=None, fill=None, edgecolor='darkviolet', linewidth=2))\n",
        "    ax.arrow(states[-2][0],states[-2][1], states[-1][0]-states[-2][0],states[-1][1]-states[-2][1],\n",
        "             head_width=0.3, head_length=0.15, length_includes_head=True,\n",
        "             fill=True, color='darkviolet', linewidth=2)\n",
        "    plt.show()\n",
        "\n",
        "\n",
        "def plotStateValues(V):\n",
        "    V = V.copy()\n",
        "    V = np.round(V,2)\n",
        "    fig, ax = plt.subplots(1,1,figsize=(gridSize[1],gridSize[0]))\n",
        "    ax.set_xticks(range(gridSize[1]))\n",
        "    ax.set_xticks(np.arange(-.5, gridSize[1], 1), minor=True);\n",
        "    ax.set_xticklabels(range(1, gridSize[1]+1))\n",
        "    ax.set_yticks(range(gridSize[0]))\n",
        "    ax.set_yticks(np.arange(-.5, gridSize[0], 1), minor=True);\n",
        "    ax.set_yticklabels(range(1, gridSize[0]+1))\n",
        "    ax.grid(which='minor', color='k', linewidth=2)\n",
        "    ax.invert_yaxis()\n",
        "    ax.set_title('State Values for each Cell', fontsize=18)\n",
        "    im = ax.imshow(V, cmap='hot_r')\n",
        "    cbar = fig.colorbar(im, orientation='horizontal', pad=0.1)\n",
        "    plt.show()"
      ],
      "execution_count": null,
      "outputs": []
    },
    {
      "cell_type": "markdown",
      "metadata": {
        "id": "CSzKvvzD7o4h"
      },
      "source": [
        "# Task 1\n",
        "\n",
        "Randomly generate 1000 episodes according to the initial policy.\n",
        "\n",
        "Compute the state value V(s) for each visited state using TD(λ) Policy Evaluation."
      ]
    },
    {
      "cell_type": "code",
      "metadata": {
        "id": "CvbRcWIp4AkD",
        "outputId": "7b14cbc1-a99d-49fd-ada8-8a4fee3fc4a4",
        "colab": {
          "base_uri": "https://localhost:8080/",
          "height": 645
        }
      },
      "source": [
        "V = policyEvaluation(initPolicy)\n",
        "print()\n",
        "plotStateValues(V)\n",
        "print()\n",
        "print('\\nState Values for initial policy:\\n')\n",
        "print(np.round(V,2),'\\n')"
      ],
      "execution_count": null,
      "outputs": [
        {
          "output_type": "stream",
          "text": [
            "\n"
          ],
          "name": "stdout"
        },
        {
          "output_type": "display_data",
          "data": {
            "image/png": "[encoded data removed]",
            "text/plain": [
              "<Figure size 720x504 with 2 Axes>"
            ]
          },
          "metadata": {
            "tags": [],
            "needs_background": "light"
          }
        },
        {
          "output_type": "stream",
          "text": [
            "\n",
            "\n",
            "State Values for initial policy:\n",
            "\n",
            "[[-7.01 -7.04 -7.12 -7.17 -7.21 -7.22 -7.21 -7.16 -7.02 -6.71]\n",
            " [-6.96 -7.   -7.07 -7.15 -7.18 -7.2  -7.18 -7.13 -6.9  -5.73]\n",
            " [-6.88 -6.92 -7.   -7.12 -7.17 -7.18 -7.16 -7.11 -6.32 -2.26]\n",
            " [-6.79 -6.81 -6.9  -7.06 -7.11 -7.13 -7.12  0.    9.7   2.27]\n",
            " [-6.69 -6.7  -6.77 -6.95 -6.89 -5.73  6.75  9.07 13.18  6.23]\n",
            " [-6.61 -6.61 -6.63 -6.77 -6.48 -4.25  4.34  1.3  17.83  7.1 ]\n",
            " [-6.57 -6.56 -6.55 -6.54 -5.77 -3.43 -2.15 12.7   6.76  6.67]] \n",
            "\n"
          ],
          "name": "stdout"
        }
      ]
    },
    {
      "cell_type": "markdown",
      "metadata": {
        "id": "h6fEfLvG7sys"
      },
      "source": [
        "# Task 2\n",
        "\n",
        "Starting from the initial policy, choose actions using ε-greedy action selection (ε=0.1)\n",
        "\n",
        "Improve the policy by SARSA(λ) for 10,000 episodes.\n",
        "\n",
        "Compute the resulting state value V(s) for each grid cell.\n",
        "\n",
        "Visualize the resulting policy using arrows."
      ]
    },
    {
      "cell_type": "markdown",
      "metadata": {
        "id": "HFnmEyj6nZjN"
      },
      "source": [
        "## Epsilon Greedy Policy, Non-Deterministic Actions"
      ]
    },
    {
      "cell_type": "code",
      "metadata": {
        "id": "aNWy0Vavot5V",
        "outputId": "1cd80e27-3303-43fe-b7b0-6596392f4e53",
        "colab": {
          "base_uri": "https://localhost:8080/",
          "height": 1000
        }
      },
      "source": [
        "Q = policyImprovement(deterministic=False)\n",
        "print()\n",
        "plotPolicy(Q,deterministic=False)\n",
        "print()\n",
        "V = np.max(Q, axis=2)\n",
        "plotStateValues(V)\n",
        "print()\n",
        "print('State Values for learned policy:\\n')\n",
        "print(np.round(V,2),'\\n')"
      ],
      "execution_count": null,
      "outputs": [
        {
          "output_type": "stream",
          "text": [
            "100%|██████████| 10000/10000 [05:14<00:00, 31.79it/s]\n"
          ],
          "name": "stderr"
        },
        {
          "output_type": "stream",
          "text": [
            "\n"
          ],
          "name": "stdout"
        },
        {
          "output_type": "display_data",
          "data": {
            "image/png": "[encoded data removed]",
            "text/plain": [
              "<Figure size 720x504 with 1 Axes>"
            ]
          },
          "metadata": {
            "tags": [],
            "needs_background": "light"
          }
        },
        {
          "output_type": "stream",
          "text": [
            "\n"
          ],
          "name": "stdout"
        },
        {
          "output_type": "display_data",
          "data": {
            "image/png": "[encoded data removed]",
            "text/plain": [
              "<Figure size 720x504 with 2 Axes>"
            ]
          },
          "metadata": {
            "tags": [],
            "needs_background": "light"
          }
        },
        {
          "output_type": "stream",
          "text": [
            "\n",
            "State Values for learned policy:\n",
            "\n",
            "[[-5.21 -4.96 -4.74 -5.   -3.81  0.47  7.06 12.61 19.21 23.44]\n",
            " [-5.09 -4.65 -4.78 -4.62 -4.5   2.35  8.05 13.25 22.11 28.02]\n",
            " [-3.38 -4.95 -5.03 -4.62 -3.18  2.15  7.57 16.16 26.24 62.31]\n",
            " [ 9.39  4.95 11.27 -4.46 -1.9   3.1   9.76  0.   88.58 36.7 ]\n",
            " [ 5.13 18.32 20.99 26.52 41.29 57.93 82.64 84.65 80.04 25.47]\n",
            " [-3.22 13.7  23.79 27.72 33.82 38.71 83.09 14.71 81.95 32.73]\n",
            " [ 0.28 10.66 21.81 28.52 31.36 57.07 75.06  0.   27.32 10.36]] \n",
            "\n"
          ],
          "name": "stdout"
        }
      ]
    },
    {
      "cell_type": "markdown",
      "metadata": {
        "id": "usynf6-9np24"
      },
      "source": [
        "## Epsilon Greedy Policy, Non-Deterministic Actions, Replacing Trace"
      ]
    },
    {
      "cell_type": "code",
      "metadata": {
        "id": "KfG9L8B1AYuR",
        "outputId": "ef3a75d1-1972-459e-e9a0-96b5b1e9012f",
        "colab": {
          "base_uri": "https://localhost:8080/",
          "height": 1000
        }
      },
      "source": [
        "Q = policyImprovement(deterministic=False, replaceTrace=True)\n",
        "print()\n",
        "plotPolicy(Q, deterministic=False)\n",
        "print()\n",
        "V = np.max(Q, axis=2)\n",
        "plotStateValues(V)\n",
        "print()\n",
        "print('State Values for learned policy:\\n')\n",
        "print(np.round(V,2),'\\n')"
      ],
      "execution_count": null,
      "outputs": [
        {
          "output_type": "stream",
          "text": [
            "\n"
          ],
          "name": "stdout"
        },
        {
          "output_type": "display_data",
          "data": {
            "image/png": "[encoded data removed]",
            "text/plain": [
              "<Figure size 720x504 with 1 Axes>"
            ]
          },
          "metadata": {
            "tags": [],
            "needs_background": "light"
          }
        },
        {
          "output_type": "stream",
          "text": [
            "\n"
          ],
          "name": "stdout"
        },
        {
          "output_type": "display_data",
          "data": {
            "image/png": "[encoded data removed]",
            "text/plain": [
              "<Figure size 720x504 with 2 Axes>"
            ]
          },
          "metadata": {
            "tags": [],
            "needs_background": "light"
          }
        },
        {
          "output_type": "stream",
          "text": [
            "\n",
            "State Values for learned policy:\n",
            "\n",
            "[[ -3.36   3.21  19.62  36.08  70.74  94.82 180.52 236.9  305.19 401.  ]\n",
            " [ -2.96  14.07  13.69  17.04  25.69  42.5  122.95 181.59 254.24 396.71]\n",
            " [  3.05  24.68  13.87  11.25  40.56  94.5  132.23 207.29 274.22 420.07]\n",
            " [227.46 118.87  53.6   45.48  82.42 113.18 141.1    0.   232.6  384.15]\n",
            " [ 86.69 275.4  162.58  83.76 141.87 119.65 178.14 190.86 255.58 365.29]\n",
            " [ 21.07 144.5  206.23 137.09 156.19 153.04 157.35 189.28 214.58 408.08]\n",
            " [  5.6   68.42 156.38 301.18 164.41 206.83 167.66 166.89 310.19 340.61]] \n",
            "\n"
          ],
          "name": "stdout"
        }
      ]
    }
  ]
}