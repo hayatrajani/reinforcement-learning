{
  "nbformat": 4,
  "nbformat_minor": 0,
  "metadata": {
    "colab": {
      "name": "Monte Carlo.ipynb",
      "provenance": [],
      "collapsed_sections": [],
      "toc_visible": true,
      "include_colab_link": true
    },
    "kernelspec": {
      "name": "python3",
      "display_name": "Python 3"
    }
  },
  "cells": [
    {
      "cell_type": "markdown",
      "metadata": {
        "id": "view-in-github",
        "colab_type": "text"
      },
      "source": [
        "<a href=\"https://colab.research.google.com/github/hayatrajani/reinforcement-learning/blob/main/Monte_Carlo.ipynb\" target=\"_parent\"><img src=\"https://colab.research.google.com/assets/colab-badge.svg\" alt=\"Open In Colab\"/></a>"
      ]
    },
    {
      "cell_type": "markdown",
      "metadata": {
        "id": "iUUXSgXJhhax"
      },
      "source": [
        "# Import required Modules"
      ]
    },
    {
      "cell_type": "code",
      "metadata": {
        "id": "BdblfD3eoFIr"
      },
      "source": [
        "import numpy as np\n",
        "from collections import defaultdict\n",
        "from itertools import product\n",
        "from operator import add\n",
        "from random import choice\n",
        "from skimage.draw import line\n",
        "from matplotlib.patches import Rectangle, Polygon, Circle\n",
        "import matplotlib.pyplot as plt\n",
        "from pprint import pprint\n",
        "from tqdm import tqdm\n",
        "\n",
        "%matplotlib inline\n",
        "np.set_printoptions(linewidth=np.inf)"
      ],
      "execution_count": null,
      "outputs": []
    },
    {
      "cell_type": "markdown",
      "metadata": {
        "id": "IF3KQO08ho4Z"
      },
      "source": [
        "# Design the Grid World\n",
        "\n",
        "![Racetrack](https://drive.google.com/uc?id=175ZPAWbbfp7XRRgfsOj__Xj2Qew_qPHm)\n",
        "\n",
        "The agent always starts in one of the cells marked with $S$.\n",
        "\n",
        "Its initial velocity is $(0,1)$, i.e. it would move one cell upward.\n",
        "\n",
        "Actions are to increase or decrease its velocity components by one or to leave it unchanged.\n",
        "\n",
        "\n",
        "* The agent can change both velocity components at the same time; it doesn't have to though!\n",
        "* The agent doesn't teleport! It transitions through intermediate cells.  \n",
        "\n",
        "\n",
        "Both velocity components are restricted to be non-negative and their sum must be at least $1$ and cannot exceed $5$.\n",
        "\n",
        "The rewards are $-1$ for each step that the agent stays on the track, and $-10$ if the agent tries to drive off the track (enters a cell marked with $X$ or leaves the grid).\n",
        "\n",
        "\n",
        "* The reward is assigned only for the whole transition i.e. -1 if you stay on track for the entire trajectory for that step.\n",
        "\n",
        "\n",
        "The episode ends when the agent tries to drive off the track or when it crosses the finish line marked with $G$."
      ]
    },
    {
      "cell_type": "code",
      "metadata": {
        "id": "7bW9Hi4oQCdC"
      },
      "source": [
        "gridSize = (18,14)\n",
        "\n",
        "startCells = ((17,3), (17,4), (17,5), (17,6))\n",
        "goalCells = ((1,13), (2,13), (3,13), (4,13), (5,13))\n",
        "obstacles = (\n",
        "    (0,0), (0,1), (0,2), (0,3), (0,4), (0,5), (0,6), (0,7), (0,8), (0,9), (0,10), (0,11), (0,12), (0,13),\n",
        "    (1,0), (0,1), (0,2), (0,3), (0,4),\n",
        "    (2,0),\n",
        "    (3,0),\n",
        "    (4,0),\n",
        "    (5,0),\n",
        "    (6,0), (6,1), (6,11), (6,12), (6,13),\n",
        "    (7,0), (7,1), (7,9), (7,10), (7,11), (7,12), (7,13),\n",
        "    (8,0), (8,1), (8,8), (8,9), (8,10), (8,11), (8,12), (8,13),\n",
        "    (9,0), (9,1), (9,2), (9,8), (9,9), (9,10), (9,11), (9,12), (9,13),\n",
        "    (10,0), (10,1), (10,2), (10,8), (10,9), (10,10), (10,11), (10,12), (10,13),\n",
        "    (11,0), (11,1), (11,2), (11,3), (11,8), (11,9), (11,10), (11,11), (11,12), (11,13),\n",
        "    (12,0), (12,1), (12,2), (12,3), (12,8), (12,9), (12,10), (12,11), (12,12), (12,13),\n",
        "    (13,0), (13,1), (13,2), (13,3), (13,7), (13,8), (13,9), (13,10), (13,11), (13,12), (13,13),\n",
        "    (14,0), (14,1), (14,2), (14,3), (14,7), (14,8), (14,9), (14,10), (14,11), (14,12), (14,13),\n",
        "    (15,0), (15,1), (15,2), (15,7), (15,8), (15,9), (15,10), (15,11), (15,12), (15,13),\n",
        "    (16,0), (16,1), (16,2), (16,7), (16,8), (16,9), (16,10), (16,11), (16,12), (16,13),\n",
        "    (17,0), (17,1), (17,2), (17,7), (17,8), (17,9), (17,10), (17,11), (17,12), (17,13),\n",
        ")\n",
        "\n",
        "onTrackReward = -1\n",
        "offTrackReward = -10\n",
        "\n",
        "minVelocity = 1\n",
        "maxVelocity = 5\n",
        "\n",
        "# increase or decrease velocity components by 1 or leave unchanged\n",
        "# can change both velocity components together but doesn't have to\n",
        "# i.e. all possible orderings of 2-tuples with element repetition\n",
        "allActions = [a for a in product((-1,0,1),repeat=2)]\n",
        "nActions = len(allActions)\n",
        "\n",
        "\n",
        "class keydefaultdict(defaultdict):\n",
        "    def __missing__(self, key):\n",
        "        if self.default_factory is None:\n",
        "            raise KeyError(key)\n",
        "        else:\n",
        "            val = self[key] = self.default_factory(key)\n",
        "            return val\n",
        "\n",
        "def initPolicy(state):\n",
        "    # both velocity components restricted to be non-negative i.e. can't move backward or left\n",
        "    # i.e. vx >= 0 and vy <= 0 since y-axis is inverted (numpy array)\n",
        "    # and the (absolute) sum of the velocity components must be between 1 and 5 (inclusive)\n",
        "    cell, velocity = state\n",
        "    action_prob = np.ones(nActions)\n",
        "    for i, action in enumerate(allActions):\n",
        "        vy, vx = tuple(map(add,velocity,action))\n",
        "        if vx < 0 or vy > 0 or not (minVelocity <= abs(vx)+abs(vy) <= maxVelocity):\n",
        "            # actions that violate restrictions have no chance of occuring (probability=0)\n",
        "            action_prob[i] = 0\n",
        "    # all other actions are equiprobable\n",
        "    action_prob *= 1/np.count_nonzero(action_prob)\n",
        "    return action_prob\n",
        "\n",
        "\n",
        "def initState():\n",
        "    # begin at a random start cell with\n",
        "    # initial velocity set to move up one cell\n",
        "    # indexed (y,x) with y-axis inverted\n",
        "    return (choice(startCells), (-1,0))\n",
        "\n",
        "\n",
        "def step(state, action, deterministic=True):\n",
        "    cell, velocity = state\n",
        "    # compute new cell\n",
        "    cell_ = tuple(map(add,cell,velocity))\n",
        "    # when executing the velocity, the agent randomly moves one cell too far\n",
        "    # either in the horizontal or vertical direction\n",
        "    if not deterministic:\n",
        "        cell_ = tuple(map(add,cell_,choice(((-1,0),(0,1)))))\n",
        "    # compute new velocity\n",
        "    velocity = tuple(map(add,velocity,action))\n",
        "    # reward if agent is on track through the entire transition\n",
        "    reward = onTrackReward\n",
        "    done = False\n",
        "    # check transition through intermediate cells\n",
        "    for c in zip(*line(*cell,*cell_)):\n",
        "        # end episode if agent passes through goal state\n",
        "        if c in goalCells:\n",
        "            done = True\n",
        "            break\n",
        "        # end episode with penalty if agent tries to leave the track\n",
        "        elif not (0 <= c[0] < gridSize[0] and 0 <= c[1] < gridSize[1]) or c in obstacles:\n",
        "            reward = offTrackReward\n",
        "            done = True\n",
        "            break\n",
        "    return ((cell_, velocity), reward, done)\n",
        "\n",
        "\n",
        "def policyEvaluation(policy, V = defaultdict(float), episodes=1000):\n",
        "    returns = defaultdict(list)\n",
        "    # repeat for each episode\n",
        "    for _ in tqdm(range(episodes)):\n",
        "        # starting from an initial state\n",
        "        state = initState()\n",
        "        # generate an episode following the given policy\n",
        "        episode_rewards = []\n",
        "        episode_states = dict()\n",
        "        index = 0\n",
        "        while True:\n",
        "            # get possible actions from the current state\n",
        "            # illegal actions have zero probability\n",
        "            # legal actions are equiprobable by default\n",
        "            action_prob = policy[state]\n",
        "            # randomly choose a possible action\n",
        "            action = allActions[np.random.choice(range(nActions),p=action_prob)]\n",
        "            # observe the next state and reward\n",
        "            nextState, reward, done = step(state, action)\n",
        "            episode_rewards.append(reward)\n",
        "            # maintain a map of (unique) states visited in the episode\n",
        "            # and the corresponding indices of their first occurence\n",
        "            _ = episode_states.setdefault(state,index)\n",
        "            if done:\n",
        "                break\n",
        "            state = nextState\n",
        "            index += 1\n",
        "        # repeat for each state visited in the episode\n",
        "        for state, index in episode_states.items():\n",
        "            # return following the first occurence of the state\n",
        "            returns[state].append(sum(episode_rewards[index:]))\n",
        "            # average returns following first visits to the state thus far\n",
        "            V[state] = sum(returns[state])/len(returns[state])\n",
        "    return V\n",
        "\n",
        "\n",
        "def onPolicyControl(Q = defaultdict(lambda: np.zeros(nActions)-np.inf),\n",
        "                    episodes=1000, epsilon=0.1, deterministic=True):\n",
        "    policy = keydefaultdict(initPolicy)\n",
        "    returns = defaultdict(list)\n",
        "    # repeat for each episode\n",
        "    for _ in tqdm(range(episodes)):\n",
        "        # starting from an initial state\n",
        "        state = initState()\n",
        "        # generate an episode following the given policy\n",
        "        episode_rewards = []\n",
        "        episode_states = set()\n",
        "        episode_state_action = dict()\n",
        "        index = 0\n",
        "        while True:\n",
        "            # get possible actions from the current state\n",
        "            # illegal actions have zero probability\n",
        "            action_prob = policy[state]\n",
        "            # choose an action\n",
        "            action_id = np.random.choice(range(nActions),p=action_prob)\n",
        "            # observe the next state and reward\n",
        "            nextState, reward, done = step(state, allActions[action_id], deterministic)\n",
        "            episode_rewards.append(reward)\n",
        "            # maintain a set of (unique) states visited in the episode\n",
        "            episode_states.add(state)\n",
        "            # maintain a map of (unique) state action pairs visited in the episode\n",
        "            # and the corresponding indices of their first occurence\n",
        "            _ = episode_state_action.setdefault((state,action_id), index)\n",
        "            if done:\n",
        "                break\n",
        "            state = nextState\n",
        "            index += 1\n",
        "        # repeat for each state action pair visited in the episode\n",
        "        for state_action, index in episode_state_action.items():\n",
        "            # return following the first occurence of the state\n",
        "            returns[state_action].append(sum(episode_rewards[index:]))\n",
        "            # average returns following first visits to the state thus far\n",
        "            state, action_id = state_action\n",
        "            Q[state][action_id] = sum(returns[state_action])/len(returns[state_action])\n",
        "        # for each state in the episode update the policy\n",
        "        for state in episode_states:\n",
        "            # choose the best possible action while randomly breaking ties\n",
        "            best_action_id = np.random.choice(np.where(Q[state]==Q[state].max())[0])\n",
        "            # update all legal action probabilities as per epsilon soft policy\n",
        "            nzActions = np.count_nonzero(policy[state])\n",
        "            for action_id in range(nActions):\n",
        "                if policy[state][action_id] != 0:\n",
        "                    policy[state][action_id] = epsilon/nzActions\n",
        "            policy[state][best_action_id] += 1-epsilon\n",
        "    return policy\n",
        "\n",
        "\n",
        "def plotPolicy(policy, deterministic=True):\n",
        "    fig, axs = plt.subplots(2,2,figsize=(gridSize[1],gridSize[0]))\n",
        "    for ax, startCell in zip(axs.flat, startCells):\n",
        "        ax.axis([0,gridSize[1],0,gridSize[0]])\n",
        "        ax.set_xticks(range(gridSize[1]))\n",
        "        ax.set_yticks(range(gridSize[0]))\n",
        "        ax.grid(True, color='k', linewidth=1.5)\n",
        "        ax.set_aspect(1)\n",
        "        ax.invert_yaxis()\n",
        "        ax.set_yticklabels([])\n",
        "        ax.yaxis.set_ticks_position('none')\n",
        "        ax.set_xticklabels([])\n",
        "        ax.xaxis.set_ticks_position('none')\n",
        "        for cell in startCells:\n",
        "            ax.add_patch(Rectangle((cell[1],cell[0]),1,1,color='dodgerblue'))\n",
        "        for cell in goalCells:\n",
        "            ax.add_patch(Rectangle((cell[1],cell[0]),1,1,color='springgreen'))\n",
        "        for cell in obstacles:\n",
        "            ax.add_patch(Rectangle((cell[1],cell[0]),1,1,color='orangered'))\n",
        "        state = (startCell, (-1,0))\n",
        "        cells = [startCell]\n",
        "        trajectory = []\n",
        "        while True:\n",
        "            action = allActions[np.argmax(policy[state])]\n",
        "            nextState, _, done = step(state, action, deterministic)\n",
        "            cells.append(nextState[0])\n",
        "            trajectory.extend(zip(*line(*state[0],*nextState[0])))\n",
        "            state = nextState\n",
        "            if done:\n",
        "                break\n",
        "        for y,x in cells[:-1]:\n",
        "            ax.add_patch(Circle((x+0.5,y+0.5), radius=0.15, fill=True, color='darkviolet'))\n",
        "        trajectory = [(x+0.5,y+0.5) for y,x in trajectory]\n",
        "        ax.add_patch(Polygon(trajectory[:-1], closed=None, fill=None, edgecolor='darkviolet', linewidth=2.5))\n",
        "        ax.arrow(trajectory[-2][0],trajectory[-2][1], trajectory[-1][0]-trajectory[-2][0],trajectory[-1][1]-trajectory[-2][1],\n",
        "                head_width=0.4, head_length=0.2, length_includes_head=True,\n",
        "                fill=True, color='darkviolet', linewidth=2.5)\n",
        "        ax.set_title('Start Cell: '+', '.join(str(c) for c in startCell), fontsize=18)\n",
        "    plt.subplots_adjust(hspace=0.1, wspace=0.05)\n",
        "    plt.show()"
      ],
      "execution_count": null,
      "outputs": []
    },
    {
      "cell_type": "markdown",
      "metadata": {
        "id": "CSzKvvzD7o4h"
      },
      "source": [
        "# Task 4.1\n",
        "\n",
        "Compute V(s) for each grid cell using Monte Carlo Policy Evaluation for 1000 episodes of a policy that uniformly chooses one of the available actions."
      ]
    },
    {
      "cell_type": "code",
      "metadata": {
        "id": "CvbRcWIp4AkD"
      },
      "source": [
        "policy = keydefaultdict(initPolicy)\n",
        "V = policyEvaluation(policy)\n",
        "pprint(V)"
      ],
      "execution_count": null,
      "outputs": []
    },
    {
      "cell_type": "markdown",
      "metadata": {
        "id": "h6fEfLvG7sys"
      },
      "source": [
        "# Task 4.2\n",
        "\n",
        "Compute the optimal policy using on-policy Monte Carlo control.\n",
        "\n",
        "Visualize the resulting trajectories for all start states S."
      ]
    },
    {
      "cell_type": "code",
      "metadata": {
        "id": "aNWy0Vavot5V",
        "outputId": "5dc2064a-e2d3-409e-c131-7430e04d5322",
        "colab": {
          "base_uri": "https://localhost:8080/",
          "height": 1000
        }
      },
      "source": [
        "learnedPolicy = onPolicyControl(deterministic=True)\n",
        "print()\n",
        "plotPolicy(learnedPolicy)"
      ],
      "execution_count": null,
      "outputs": [
        {
          "output_type": "stream",
          "text": [
            "100%|██████████| 1000/1000 [00:00<00:00, 1120.90it/s]\n"
          ],
          "name": "stderr"
        },
        {
          "output_type": "stream",
          "text": [
            "\n"
          ],
          "name": "stdout"
        },
        {
          "output_type": "display_data",
          "data": {
            "image/png": "[encoded data removed]",
            "text/plain": [
              "<Figure size 1008x1296 with 4 Axes>"
            ]
          },
          "metadata": {
            "tags": [],
            "needs_background": "light"
          }
        }
      ]
    },
    {
      "cell_type": "markdown",
      "metadata": {
        "id": "b2X4MMUi7u_i"
      },
      "source": [
        "# Task 4.3\n",
        "\n",
        "When executing the velocity, the agent moves randomly one cell too far in either the horizontal or the vertical direction.\n",
        "\n",
        "Again, compute the optimal policy using on-policy Monte Carlo control.\n",
        "\n",
        "Visualize the resulting trajectories for all start states S."
      ]
    },
    {
      "cell_type": "code",
      "metadata": {
        "id": "CKREvWLhqZya",
        "outputId": "e3f91a04-46b0-4a32-f63b-d5a47df2fc69",
        "colab": {
          "base_uri": "https://localhost:8080/",
          "height": 1000
        }
      },
      "source": [
        "learnedPolicy = onPolicyControl(deterministic=False, episodes=10000)\n",
        "print()\n",
        "plotPolicy(learnedPolicy)"
      ],
      "execution_count": null,
      "outputs": [
        {
          "output_type": "stream",
          "text": [
            "100%|██████████| 10000/10000 [00:06<00:00, 1477.36it/s]\n"
          ],
          "name": "stderr"
        },
        {
          "output_type": "stream",
          "text": [
            "\n"
          ],
          "name": "stdout"
        },
        {
          "output_type": "display_data",
          "data": {
            "image/png": "[encoded data removed]",
            "text/plain": [
              "<Figure size 1008x1296 with 4 Axes>"
            ]
          },
          "metadata": {
            "tags": [],
            "needs_background": "light"
          }
        }
      ]
    }
  ]
}